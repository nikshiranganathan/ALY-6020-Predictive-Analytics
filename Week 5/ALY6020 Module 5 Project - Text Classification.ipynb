{
 "cells": [
  {
   "cell_type": "code",
   "execution_count": 1,
   "id": "371faf5e",
   "metadata": {},
   "outputs": [],
   "source": [
    "import pandas as pd\n",
    "from sklearn.model_selection import train_test_split\n",
    "from sklearn.preprocessing import StandardScaler\n",
    "from sklearn.neighbors import KNeighborsClassifier"
   ]
  },
  {
   "cell_type": "code",
   "execution_count": 2,
   "id": "47e07a85",
   "metadata": {},
   "outputs": [],
   "source": [
    "df = pd.read_csv(\"C:/Users/14086/Downloads/ALY 6020/Week 5/letters.csv\", header=0)"
   ]
  },
  {
   "cell_type": "code",
   "execution_count": 3,
   "id": "1af6c571",
   "metadata": {},
   "outputs": [
    {
     "name": "stdout",
     "output_type": "stream",
     "text": [
      "<class 'pandas.core.frame.DataFrame'>\n",
      "RangeIndex: 42000 entries, 0 to 41999\n",
      "Data columns (total 46 columns):\n",
      " #   Column    Non-Null Count  Dtype\n",
      "---  ------    --------------  -----\n",
      " 0   label     42000 non-null  int64\n",
      " 1   pixel43   42000 non-null  int64\n",
      " 2   pixel44   42000 non-null  int64\n",
      " 3   pixel92   42000 non-null  int64\n",
      " 4   pixel124  42000 non-null  int64\n",
      " 5   pixel125  42000 non-null  int64\n",
      " 6   pixel126  42000 non-null  int64\n",
      " 7   pixel127  42000 non-null  int64\n",
      " 8   pixel128  42000 non-null  int64\n",
      " 9   pixel129  42000 non-null  int64\n",
      " 10  pixel130  42000 non-null  int64\n",
      " 11  pixel131  42000 non-null  int64\n",
      " 12  pixel132  42000 non-null  int64\n",
      " 13  pixel133  42000 non-null  int64\n",
      " 14  pixel134  42000 non-null  int64\n",
      " 15  pixel135  42000 non-null  int64\n",
      " 16  pixel136  42000 non-null  int64\n",
      " 17  pixel137  42000 non-null  int64\n",
      " 18  pixel138  42000 non-null  int64\n",
      " 19  pixel146  42000 non-null  int64\n",
      " 20  pixel147  42000 non-null  int64\n",
      " 21  pixel148  42000 non-null  int64\n",
      " 22  pixel149  42000 non-null  int64\n",
      " 23  pixel150  42000 non-null  int64\n",
      " 24  pixel151  42000 non-null  int64\n",
      " 25  pixel152  42000 non-null  int64\n",
      " 26  pixel153  42000 non-null  int64\n",
      " 27  pixel154  42000 non-null  int64\n",
      " 28  pixel155  42000 non-null  int64\n",
      " 29  pixel156  42000 non-null  int64\n",
      " 30  pixel157  42000 non-null  int64\n",
      " 31  pixel158  42000 non-null  int64\n",
      " 32  pixel159  42000 non-null  int64\n",
      " 33  pixel160  42000 non-null  int64\n",
      " 34  pixel327  42000 non-null  int64\n",
      " 35  pixel328  42000 non-null  int64\n",
      " 36  pixel329  42000 non-null  int64\n",
      " 37  pixel351  42000 non-null  int64\n",
      " 38  pixel410  42000 non-null  int64\n",
      " 39  pixel411  42000 non-null  int64\n",
      " 40  pixel412  42000 non-null  int64\n",
      " 41  pixel413  42000 non-null  int64\n",
      " 42  pixel414  42000 non-null  int64\n",
      " 43  pixel415  42000 non-null  int64\n",
      " 44  pixel416  42000 non-null  int64\n",
      " 45  pixel417  42000 non-null  int64\n",
      "dtypes: int64(46)\n",
      "memory usage: 14.7 MB\n"
     ]
    }
   ],
   "source": [
    "df.info()"
   ]
  },
  {
   "cell_type": "code",
   "execution_count": 4,
   "id": "16922c13",
   "metadata": {},
   "outputs": [
    {
     "data": {
      "text/html": [
       "<div>\n",
       "<style scoped>\n",
       "    .dataframe tbody tr th:only-of-type {\n",
       "        vertical-align: middle;\n",
       "    }\n",
       "\n",
       "    .dataframe tbody tr th {\n",
       "        vertical-align: top;\n",
       "    }\n",
       "\n",
       "    .dataframe thead th {\n",
       "        text-align: right;\n",
       "    }\n",
       "</style>\n",
       "<table border=\"1\" class=\"dataframe\">\n",
       "  <thead>\n",
       "    <tr style=\"text-align: right;\">\n",
       "      <th></th>\n",
       "      <th>label</th>\n",
       "      <th>pixel43</th>\n",
       "      <th>pixel44</th>\n",
       "      <th>pixel92</th>\n",
       "      <th>pixel124</th>\n",
       "      <th>pixel125</th>\n",
       "      <th>pixel126</th>\n",
       "      <th>pixel127</th>\n",
       "      <th>pixel128</th>\n",
       "      <th>pixel129</th>\n",
       "      <th>...</th>\n",
       "      <th>pixel329</th>\n",
       "      <th>pixel351</th>\n",
       "      <th>pixel410</th>\n",
       "      <th>pixel411</th>\n",
       "      <th>pixel412</th>\n",
       "      <th>pixel413</th>\n",
       "      <th>pixel414</th>\n",
       "      <th>pixel415</th>\n",
       "      <th>pixel416</th>\n",
       "      <th>pixel417</th>\n",
       "    </tr>\n",
       "  </thead>\n",
       "  <tbody>\n",
       "    <tr>\n",
       "      <th>0</th>\n",
       "      <td>1</td>\n",
       "      <td>0</td>\n",
       "      <td>0</td>\n",
       "      <td>0</td>\n",
       "      <td>0</td>\n",
       "      <td>0</td>\n",
       "      <td>0</td>\n",
       "      <td>0</td>\n",
       "      <td>0</td>\n",
       "      <td>0</td>\n",
       "      <td>...</td>\n",
       "      <td>0</td>\n",
       "      <td>254</td>\n",
       "      <td>0</td>\n",
       "      <td>0</td>\n",
       "      <td>0</td>\n",
       "      <td>0</td>\n",
       "      <td>0</td>\n",
       "      <td>0</td>\n",
       "      <td>0</td>\n",
       "      <td>0</td>\n",
       "    </tr>\n",
       "    <tr>\n",
       "      <th>1</th>\n",
       "      <td>0</td>\n",
       "      <td>0</td>\n",
       "      <td>0</td>\n",
       "      <td>0</td>\n",
       "      <td>137</td>\n",
       "      <td>137</td>\n",
       "      <td>192</td>\n",
       "      <td>86</td>\n",
       "      <td>72</td>\n",
       "      <td>1</td>\n",
       "      <td>...</td>\n",
       "      <td>254</td>\n",
       "      <td>0</td>\n",
       "      <td>0</td>\n",
       "      <td>75</td>\n",
       "      <td>254</td>\n",
       "      <td>254</td>\n",
       "      <td>254</td>\n",
       "      <td>17</td>\n",
       "      <td>0</td>\n",
       "      <td>0</td>\n",
       "    </tr>\n",
       "    <tr>\n",
       "      <th>2</th>\n",
       "      <td>1</td>\n",
       "      <td>0</td>\n",
       "      <td>0</td>\n",
       "      <td>0</td>\n",
       "      <td>3</td>\n",
       "      <td>141</td>\n",
       "      <td>139</td>\n",
       "      <td>3</td>\n",
       "      <td>0</td>\n",
       "      <td>0</td>\n",
       "      <td>...</td>\n",
       "      <td>0</td>\n",
       "      <td>184</td>\n",
       "      <td>0</td>\n",
       "      <td>0</td>\n",
       "      <td>0</td>\n",
       "      <td>0</td>\n",
       "      <td>0</td>\n",
       "      <td>0</td>\n",
       "      <td>0</td>\n",
       "      <td>0</td>\n",
       "    </tr>\n",
       "    <tr>\n",
       "      <th>3</th>\n",
       "      <td>4</td>\n",
       "      <td>0</td>\n",
       "      <td>0</td>\n",
       "      <td>0</td>\n",
       "      <td>0</td>\n",
       "      <td>0</td>\n",
       "      <td>0</td>\n",
       "      <td>0</td>\n",
       "      <td>0</td>\n",
       "      <td>0</td>\n",
       "      <td>...</td>\n",
       "      <td>0</td>\n",
       "      <td>0</td>\n",
       "      <td>94</td>\n",
       "      <td>255</td>\n",
       "      <td>69</td>\n",
       "      <td>0</td>\n",
       "      <td>0</td>\n",
       "      <td>0</td>\n",
       "      <td>0</td>\n",
       "      <td>0</td>\n",
       "    </tr>\n",
       "    <tr>\n",
       "      <th>4</th>\n",
       "      <td>0</td>\n",
       "      <td>0</td>\n",
       "      <td>0</td>\n",
       "      <td>0</td>\n",
       "      <td>155</td>\n",
       "      <td>254</td>\n",
       "      <td>254</td>\n",
       "      <td>254</td>\n",
       "      <td>157</td>\n",
       "      <td>30</td>\n",
       "      <td>...</td>\n",
       "      <td>253</td>\n",
       "      <td>0</td>\n",
       "      <td>0</td>\n",
       "      <td>0</td>\n",
       "      <td>223</td>\n",
       "      <td>253</td>\n",
       "      <td>253</td>\n",
       "      <td>253</td>\n",
       "      <td>129</td>\n",
       "      <td>0</td>\n",
       "    </tr>\n",
       "  </tbody>\n",
       "</table>\n",
       "<p>5 rows × 46 columns</p>\n",
       "</div>"
      ],
      "text/plain": [
       "   label  pixel43  pixel44  pixel92  pixel124  pixel125  pixel126  pixel127  \\\n",
       "0      1        0        0        0         0         0         0         0   \n",
       "1      0        0        0        0       137       137       192        86   \n",
       "2      1        0        0        0         3       141       139         3   \n",
       "3      4        0        0        0         0         0         0         0   \n",
       "4      0        0        0        0       155       254       254       254   \n",
       "\n",
       "   pixel128  pixel129  ...  pixel329  pixel351  pixel410  pixel411  pixel412  \\\n",
       "0         0         0  ...         0       254         0         0         0   \n",
       "1        72         1  ...       254         0         0        75       254   \n",
       "2         0         0  ...         0       184         0         0         0   \n",
       "3         0         0  ...         0         0        94       255        69   \n",
       "4       157        30  ...       253         0         0         0       223   \n",
       "\n",
       "   pixel413  pixel414  pixel415  pixel416  pixel417  \n",
       "0         0         0         0         0         0  \n",
       "1       254       254        17         0         0  \n",
       "2         0         0         0         0         0  \n",
       "3         0         0         0         0         0  \n",
       "4       253       253       253       129         0  \n",
       "\n",
       "[5 rows x 46 columns]"
      ]
     },
     "execution_count": 4,
     "metadata": {},
     "output_type": "execute_result"
    }
   ],
   "source": [
    "df.head()"
   ]
  },
  {
   "cell_type": "code",
   "execution_count": 5,
   "id": "1459aadc",
   "metadata": {},
   "outputs": [],
   "source": [
    "X = df.drop('label', axis=1)\n",
    "y = df['label']\n",
    "X_train, X_test, y_train, y_test = train_test_split(X, y, test_size=0.2, random_state=42)"
   ]
  },
  {
   "cell_type": "code",
   "execution_count": 6,
   "id": "ae38da6c",
   "metadata": {},
   "outputs": [],
   "source": [
    "scaler = StandardScaler()\n",
    "X_train = scaler.fit_transform(X_train)\n",
    "X_test = scaler.transform(X_test)"
   ]
  },
  {
   "cell_type": "code",
   "execution_count": 19,
   "id": "e4d7c5cc",
   "metadata": {},
   "outputs": [
    {
     "name": "stdout",
     "output_type": "stream",
     "text": [
      "Accuracy of KNN model: 0.624\n",
      "Precision of KNN model: 0.615\n",
      "Recall of KNN model: 0.624\n",
      "F1-Score of KNN model: 0.616\n"
     ]
    }
   ],
   "source": [
    "from sklearn.metrics import accuracy_score,f1_score,precision_score, recall_score,classification_report, confusion_matrix\n",
    "knn = KNeighborsClassifier(n_neighbors=3)\n",
    "knn.fit(X_train, y_train)\n",
    "\n",
    "y_pred = knn.predict(X_test)\n",
    "accuracy = accuracy_score(y_test, y_pred)\n",
    "precision = precision_score(y_test, y_pred, average='weighted')\n",
    "recall = recall_score(y_test, y_pred, average='weighted')\n",
    "f1 = f1_score(y_test, y_pred, average='weighted')\n",
    "\n",
    "print(f'Accuracy of KNN model: {accuracy:.3f}')\n",
    "print(f'Precision of KNN model: {precision:.3f}')\n",
    "print(f'Recall of KNN model: {recall:.3f}')\n",
    "print(f'F1-Score of KNN model: {f1:.3f}')"
   ]
  },
  {
   "cell_type": "code",
   "execution_count": 10,
   "id": "ec9e1c4e",
   "metadata": {},
   "outputs": [
    {
     "name": "stdout",
     "output_type": "stream",
     "text": [
      "WARNING:tensorflow:From C:\\Users\\14086\\anaconda3\\Lib\\site-packages\\keras\\src\\losses.py:2976: The name tf.losses.sparse_softmax_cross_entropy is deprecated. Please use tf.compat.v1.losses.sparse_softmax_cross_entropy instead.\n",
      "\n",
      "WARNING:tensorflow:From C:\\Users\\14086\\anaconda3\\Lib\\site-packages\\keras\\src\\backend.py:873: The name tf.get_default_graph is deprecated. Please use tf.compat.v1.get_default_graph instead.\n",
      "\n",
      "WARNING:tensorflow:From C:\\Users\\14086\\anaconda3\\Lib\\site-packages\\keras\\src\\optimizers\\__init__.py:309: The name tf.train.Optimizer is deprecated. Please use tf.compat.v1.train.Optimizer instead.\n",
      "\n"
     ]
    }
   ],
   "source": [
    "from tensorflow.keras.models import Sequential\n",
    "from tensorflow.keras.layers import Dense, Flatten, Dropout\n",
    "from tensorflow.keras.utils import to_categorical\n",
    "\n",
    "y_train_cat = to_categorical(y_train, num_classes=10)\n",
    "y_test_cat = to_categorical(y_test, num_classes=10)\n",
    "\n",
    "model = Sequential([\n",
    "    Dense(64, activation='relu', input_shape=(X_train.shape[1],)),\n",
    "    Dense(64, activation='relu')])\n",
    "\n",
    "model.add(Dense(y_train_cat.shape[1], activation='softmax'))\n",
    "\n",
    "model.compile(optimizer='adam', loss='categorical_crossentropy',metrics=['accuracy'])"
   ]
  },
  {
   "cell_type": "code",
   "execution_count": 11,
   "id": "db9353e7",
   "metadata": {},
   "outputs": [
    {
     "name": "stdout",
     "output_type": "stream",
     "text": [
      "Epoch 1/10\n",
      "WARNING:tensorflow:From C:\\Users\\14086\\anaconda3\\Lib\\site-packages\\keras\\src\\utils\\tf_utils.py:492: The name tf.ragged.RaggedTensorValue is deprecated. Please use tf.compat.v1.ragged.RaggedTensorValue instead.\n",
      "\n",
      "WARNING:tensorflow:From C:\\Users\\14086\\anaconda3\\Lib\\site-packages\\keras\\src\\engine\\base_layer_utils.py:384: The name tf.executing_eagerly_outside_functions is deprecated. Please use tf.compat.v1.executing_eagerly_outside_functions instead.\n",
      "\n",
      "840/840 [==============================] - 2s 1ms/step - loss: 1.2312 - accuracy: 0.5730 - val_loss: 1.0405 - val_accuracy: 0.6363\n",
      "Epoch 2/10\n",
      "840/840 [==============================] - 1s 1ms/step - loss: 0.9909 - accuracy: 0.6427 - val_loss: 0.9682 - val_accuracy: 0.6554\n",
      "Epoch 3/10\n",
      "840/840 [==============================] - 1s 1ms/step - loss: 0.9406 - accuracy: 0.6616 - val_loss: 0.9428 - val_accuracy: 0.6652\n",
      "Epoch 4/10\n",
      "840/840 [==============================] - 1s 1ms/step - loss: 0.9130 - accuracy: 0.6719 - val_loss: 0.9208 - val_accuracy: 0.6679\n",
      "Epoch 5/10\n",
      "840/840 [==============================] - 1s 1ms/step - loss: 0.8942 - accuracy: 0.6769 - val_loss: 0.9058 - val_accuracy: 0.6746\n",
      "Epoch 6/10\n",
      "840/840 [==============================] - 1s 1ms/step - loss: 0.8792 - accuracy: 0.6830 - val_loss: 0.8999 - val_accuracy: 0.6839\n",
      "Epoch 7/10\n",
      "840/840 [==============================] - 1s 1ms/step - loss: 0.8692 - accuracy: 0.6880 - val_loss: 0.9003 - val_accuracy: 0.6760\n",
      "Epoch 8/10\n",
      "840/840 [==============================] - 1s 1ms/step - loss: 0.8580 - accuracy: 0.6885 - val_loss: 0.8924 - val_accuracy: 0.6865\n",
      "Epoch 9/10\n",
      "840/840 [==============================] - 1s 1ms/step - loss: 0.8504 - accuracy: 0.6917 - val_loss: 0.8814 - val_accuracy: 0.6884\n",
      "Epoch 10/10\n",
      "840/840 [==============================] - 1s 1ms/step - loss: 0.8417 - accuracy: 0.6938 - val_loss: 0.8743 - val_accuracy: 0.6900\n"
     ]
    }
   ],
   "source": [
    "history  = model.fit(X_train, y_train_cat, epochs=10, validation_split=0.2,batch_size=32)"
   ]
  },
  {
   "cell_type": "code",
   "execution_count": 18,
   "id": "73882087",
   "metadata": {},
   "outputs": [
    {
     "name": "stdout",
     "output_type": "stream",
     "text": [
      "263/263 [==============================] - 0s 1ms/step - loss: 0.8858 - accuracy: 0.6900\n",
      "Accuracy of Neural network model: 0.690\n"
     ]
    }
   ],
   "source": [
    "_, accuracy_nn = model.evaluate(X_test, y_test_cat)\n",
    "\n",
    "print(f'Accuracy of Neural network model: {accuracy_nn:.3f}')"
   ]
  },
  {
   "cell_type": "code",
   "execution_count": 15,
   "id": "e078dd77",
   "metadata": {},
   "outputs": [
    {
     "name": "stdout",
     "output_type": "stream",
     "text": [
      "263/263 [==============================] - 0s 844us/step\n",
      "Precision of Neural network model: 0.695\n",
      "Recall of Neural network model: 0.690\n",
      "F1 Score of Neural network model: 0.689\n"
     ]
    }
   ],
   "source": [
    "import numpy as np\n",
    "y_probability = model.predict(X_test)\n",
    "y_pred = np.argmax(y_probability, axis=1)\n",
    "\n",
    "y_true = np.argmax(y_test_cat, axis=1)\n",
    "\n",
    "precision = precision_score(y_true, y_pred, average='weighted') \n",
    "recall = recall_score(y_true, y_pred, average='weighted') \n",
    "f1 = f1_score(y_true, y_pred, average='weighted') \n",
    "\n",
    "print(f\"Precision of Neural network model: {precision:.3f}\")\n",
    "print(f\"Recall of Neural network model: {recall:.3f}\")\n",
    "print(f\"F1 Score of Neural network model: {f1:.3f}\")"
   ]
  },
  {
   "cell_type": "code",
   "execution_count": null,
   "id": "c5867f1b",
   "metadata": {},
   "outputs": [],
   "source": []
  }
 ],
 "metadata": {
  "kernelspec": {
   "display_name": "Python 3 (ipykernel)",
   "language": "python",
   "name": "python3"
  },
  "language_info": {
   "codemirror_mode": {
    "name": "ipython",
    "version": 3
   },
   "file_extension": ".py",
   "mimetype": "text/x-python",
   "name": "python",
   "nbconvert_exporter": "python",
   "pygments_lexer": "ipython3",
   "version": "3.11.3"
  }
 },
 "nbformat": 4,
 "nbformat_minor": 5
}
